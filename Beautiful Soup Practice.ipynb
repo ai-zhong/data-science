{
 "cells": [
  {
   "cell_type": "code",
   "execution_count": 267,
   "metadata": {
    "collapsed": true
   },
   "outputs": [],
   "source": [
    "import requests\n",
    "# https://www.sec.gov/cgi-bin/browse-edgar?action=getcurrent\n",
    "# NOTE: THIS WEBSITE UPDATES ALL THE TIME!!\n",
    "r = requests.get(\"https://www.sec.gov/cgi-bin/browse-edgar?action=getcurrent\")\n",
    "from bs4 import BeautifulSoup\n",
    "soup = BeautifulSoup(r.text, 'html.parser')"
   ]
  },
  {
   "cell_type": "code",
   "execution_count": 273,
   "metadata": {},
   "outputs": [
    {
     "name": "stdout",
     "output_type": "stream",
     "text": [
      "<a href=\"/index.htm\">\n",
      "<img alt=\"U.S. Securities &amp; Exchange Commission\" border=\"0\" height=\"92\" src=\"/images/bannerSeal.gif\" width=\"95\"/></a>\n",
      "<a href=\"/index.htm\">Home</a>\n",
      "<a href=\"/edgar/searchedgar/webusers.htm\">EDGAR Search Home</a>\n",
      "<a href=\"/cgi-bin/browse-edgar?action=getcurrent\">Latest Filings</a>\n",
      "<a href=\"javascript:history.back()\">Previous Page</a>\n",
      "<a href=\"/info/edgar/fedholiday.htm\">U.S. Federal Holidays</a>\n",
      "<a href=\"/answers/publicdocs.htm\">Paper filings</a>\n",
      "<a href=\"/info/edgar/forms/edgform.pdf\">Form Type</a>\n",
      "<a href=\"/cgi-bin/browse-edgar?action=getcurrent&amp;CIK=&amp;type=&amp;company=&amp;dateb=&amp;owner=include&amp;start=0&amp;count=40&amp;output=atom\"><img align=\"top\" alt=\"Latest Filings\" border=\"0\" src=\"/images/rss-feed-icon-14x14.png\"/> RSS Feed</a>\n",
      "<a href=\"/cgi-bin/browse-edgar?action=getcompany&amp;CIK=0001408710&amp;owner=include&amp;count=40\">Fabrinet (0001408710) (Issuer)</a>\n",
      "<a href=\"/Archives/edgar/data/1408710/000120919117050224/0001209191-17-050224-index.htm\">[html]</a>\n",
      "<a href=\"/Archives/edgar/data/1408710/000120919117050224/0001209191-17-050224.txt\">[text]</a>\n",
      "<a href=\"/cgi-bin/browse-edgar?action=getcompany&amp;CIK=0001156899&amp;owner=include&amp;count=40\">HOU HONG Q (0001156899) (Reporting)</a>\n",
      "<a href=\"/Archives/edgar/data/1156899/000120919117050224/0001209191-17-050224-index.htm\">[html]</a>\n",
      "<a href=\"/Archives/edgar/data/1156899/000120919117050224/0001209191-17-050224.txt\">[text]</a>\n",
      "<a href=\"/cgi-bin/browse-edgar?action=getcompany&amp;filenum=001-34775&amp;owner=include&amp;count=40\">001-34775</a>\n",
      "<a href=\"/cgi-bin/browse-edgar?action=getcompany&amp;CIK=0001047065&amp;owner=include&amp;count=40\">GOOD STEVEN C (0001047065) (Reporting)</a>\n",
      "<a href=\"/Archives/edgar/data/1047065/000117911017011820/0001179110-17-011820-index.htm\">[html]</a>\n",
      "<a href=\"/Archives/edgar/data/1047065/000117911017011820/0001179110-17-011820.txt\">[text]</a>\n",
      "<a href=\"/cgi-bin/browse-edgar?action=getcompany&amp;filenum=000-23125&amp;owner=include&amp;count=40\">000-23125</a>\n",
      "<a href=\"/cgi-bin/browse-edgar?action=getcompany&amp;CIK=0001039065&amp;owner=include&amp;count=40\">OSI SYSTEMS INC (0001039065) (Issuer)</a>\n",
      "<a href=\"/Archives/edgar/data/1039065/000117911017011820/0001179110-17-011820-index.htm\">[html]</a>\n",
      "<a href=\"/Archives/edgar/data/1039065/000117911017011820/0001179110-17-011820.txt\">[text]</a>\n",
      "<a href=\"/cgi-bin/browse-edgar?action=getcompany&amp;CIK=0001541687&amp;owner=include&amp;count=40\">Ng Toh-Seng (0001541687) (Reporting)</a>\n",
      "<a href=\"/Archives/edgar/data/1541687/000120919117050222/0001209191-17-050222-index.htm\">[html]</a>\n",
      "<a href=\"/Archives/edgar/data/1541687/000120919117050222/0001209191-17-050222.txt\">[text]</a>\n",
      "<a href=\"/cgi-bin/browse-edgar?action=getcompany&amp;filenum=001-34775&amp;owner=include&amp;count=40\">001-34775</a>\n",
      "<a href=\"/cgi-bin/browse-edgar?action=getcompany&amp;CIK=0001408710&amp;owner=include&amp;count=40\">Fabrinet (0001408710) (Issuer)</a>\n",
      "<a href=\"/Archives/edgar/data/1408710/000120919117050222/0001209191-17-050222-index.htm\">[html]</a>\n",
      "<a href=\"/Archives/edgar/data/1408710/000120919117050222/0001209191-17-050222.txt\">[text]</a>\n",
      "<a href=\"/cgi-bin/browse-edgar?action=getcompany&amp;CIK=0001494794&amp;owner=include&amp;count=40\">Gill Harpal (0001494794) (Reporting)</a>\n",
      "<a href=\"/Archives/edgar/data/1494794/000120919117050221/0001209191-17-050221-index.htm\">[html]</a>\n",
      "<a href=\"/Archives/edgar/data/1494794/000120919117050221/0001209191-17-050221.txt\">[text]</a>\n",
      "<a href=\"/cgi-bin/browse-edgar?action=getcompany&amp;filenum=001-34775&amp;owner=include&amp;count=40\">001-34775</a>\n",
      "<a href=\"/cgi-bin/browse-edgar?action=getcompany&amp;CIK=0001408710&amp;owner=include&amp;count=40\">Fabrinet (0001408710) (Issuer)</a>\n",
      "<a href=\"/Archives/edgar/data/1408710/000120919117050221/0001209191-17-050221-index.htm\">[html]</a>\n",
      "<a href=\"/Archives/edgar/data/1408710/000120919117050221/0001209191-17-050221.txt\">[text]</a>\n",
      "<a href=\"/cgi-bin/browse-edgar?action=getcompany&amp;CIK=0001271302&amp;owner=include&amp;count=40\">SCHULTZ MARIAN B (0001271302) (Reporting)</a>\n",
      "<a href=\"/Archives/edgar/data/1271302/000071557917000064/0000715579-17-000064-index.htm\">[html]</a>\n",
      "<a href=\"/Archives/edgar/data/1271302/000071557917000064/0000715579-17-000064.txt\">[text]</a>\n",
      "<a href=\"/cgi-bin/browse-edgar?action=getcompany&amp;filenum=001-35015&amp;owner=include&amp;count=40\">001-35015</a>\n",
      "<a href=\"/cgi-bin/browse-edgar?action=getcompany&amp;CIK=0000715579&amp;owner=include&amp;count=40\">ACNB CORP (0000715579) (Issuer)</a>\n",
      "<a href=\"/Archives/edgar/data/715579/000071557917000064/0000715579-17-000064-index.htm\">[html]</a>\n",
      "<a href=\"/Archives/edgar/data/715579/000071557917000064/0000715579-17-000064.txt\">[text]</a>\n",
      "<a href=\"/cgi-bin/browse-edgar?action=getcompany&amp;CIK=0001265857&amp;owner=include&amp;count=40\">BURKE MICHAEL D (0001265857) (Reporting)</a>\n",
      "<a href=\"/Archives/edgar/data/1265857/000139667717000035/0001396677-17-000035-index.htm\">[html]</a>\n",
      "<a href=\"/Archives/edgar/data/1265857/000139667717000035/0001396677-17-000035.txt\">[text]</a>\n",
      "<a href=\"/cgi-bin/browse-edgar?action=getcompany&amp;filenum=000-23731&amp;owner=include&amp;count=40\">000-23731</a>\n",
      "<a href=\"/cgi-bin/browse-edgar?action=getcompany&amp;CIK=0001050007&amp;owner=include&amp;count=40\">NUTRACEUTICAL INTERNATIONAL CORP (0001050007) (Issuer)</a>\n",
      "<a href=\"/Archives/edgar/data/1050007/000139667717000035/0001396677-17-000035-index.htm\">[html]</a>\n",
      "<a href=\"/Archives/edgar/data/1050007/000139667717000035/0001396677-17-000035.txt\">[text]</a>\n",
      "<a href=\"/cgi-bin/browse-edgar?action=getcompany&amp;CIK=0001047072&amp;owner=include&amp;count=40\">LUSKIN MEYER/ (0001047072) (Reporting)</a>\n",
      "<a href=\"/Archives/edgar/data/1047072/000117911017011818/0001179110-17-011818-index.htm\">[html]</a>\n",
      "<a href=\"/Archives/edgar/data/1047072/000117911017011818/0001179110-17-011818.txt\">[text]</a>\n",
      "<a href=\"/cgi-bin/browse-edgar?action=getcompany&amp;filenum=000-23125&amp;owner=include&amp;count=40\">000-23125</a>\n",
      "<a href=\"/cgi-bin/browse-edgar?action=getcompany&amp;CIK=0001039065&amp;owner=include&amp;count=40\">OSI SYSTEMS INC (0001039065) (Issuer)</a>\n",
      "<a href=\"/Archives/edgar/data/1039065/000117911017011818/0001179110-17-011818-index.htm\">[html]</a>\n",
      "<a href=\"/Archives/edgar/data/1039065/000117911017011818/0001179110-17-011818.txt\">[text]</a>\n",
      "<a href=\"/cgi-bin/browse-edgar?action=getcompany&amp;CIK=0001396677&amp;owner=include&amp;count=40\">Seelos Andrew W (0001396677) (Reporting)</a>\n",
      "<a href=\"/Archives/edgar/data/1396677/000139667717000034/0001396677-17-000034-index.htm\">[html]</a>\n",
      "<a href=\"/Archives/edgar/data/1396677/000139667717000034/0001396677-17-000034.txt\">[text]</a>\n",
      "<a href=\"/cgi-bin/browse-edgar?action=getcompany&amp;filenum=000-23731&amp;owner=include&amp;count=40\">000-23731</a>\n",
      "<a href=\"/cgi-bin/browse-edgar?action=getcompany&amp;CIK=0001050007&amp;owner=include&amp;count=40\">NUTRACEUTICAL INTERNATIONAL CORP (0001050007) (Issuer)</a>\n",
      "<a href=\"/Archives/edgar/data/1050007/000139667717000034/0001396677-17-000034-index.htm\">[html]</a>\n",
      "<a href=\"/Archives/edgar/data/1050007/000139667717000034/0001396677-17-000034.txt\">[text]</a>\n",
      "<a href=\"/cgi-bin/browse-edgar?action=getcompany&amp;CIK=0001267342&amp;owner=include&amp;count=40\">GARDNER STEVEN R (0001267342) (Reporting)</a>\n",
      "<a href=\"/Archives/edgar/data/1267342/000102891817000193/0001028918-17-000193-index.htm\">[html]</a>\n",
      "<a href=\"/Archives/edgar/data/1267342/000102891817000193/0001028918-17-000193.txt\">[text]</a>\n",
      "<a href=\"/cgi-bin/browse-edgar?action=getcompany&amp;filenum=000-22193&amp;owner=include&amp;count=40\">000-22193</a>\n",
      "<a href=\"/cgi-bin/browse-edgar?action=getcompany&amp;CIK=0001028918&amp;owner=include&amp;count=40\">PACIFIC PREMIER BANCORP INC (0001028918) (Issuer)</a>\n",
      "<a href=\"/Archives/edgar/data/1028918/000102891817000193/0001028918-17-000193-index.htm\">[html]</a>\n",
      "<a href=\"/Archives/edgar/data/1028918/000102891817000193/0001028918-17-000193.txt\">[text]</a>\n",
      "<a href=\"/cgi-bin/browse-edgar?action=getcompany&amp;CIK=0001265856&amp;owner=include&amp;count=40\">MCQUEEN  CORY J (0001265856) (Reporting)</a>\n",
      "<a href=\"/Archives/edgar/data/1265856/000139667717000033/0001396677-17-000033-index.htm\">[html]</a>\n",
      "<a href=\"/Archives/edgar/data/1265856/000139667717000033/0001396677-17-000033.txt\">[text]</a>\n",
      "<a href=\"/cgi-bin/browse-edgar?action=getcompany&amp;filenum=000-23731&amp;owner=include&amp;count=40\">000-23731</a>\n",
      "<a href=\"/cgi-bin/browse-edgar?action=getcompany&amp;CIK=0001050007&amp;owner=include&amp;count=40\">NUTRACEUTICAL INTERNATIONAL CORP (0001050007) (Issuer)</a>\n",
      "<a href=\"/Archives/edgar/data/1050007/000139667717000033/0001396677-17-000033-index.htm\">[html]</a>\n",
      "<a href=\"/Archives/edgar/data/1050007/000139667717000033/0001396677-17-000033.txt\">[text]</a>\n",
      "<a href=\"/cgi-bin/browse-edgar?action=getcompany&amp;CIK=0001499807&amp;owner=include&amp;count=40\">K2M GROUP HOLDINGS, INC. (0001499807) (Issuer)</a>\n",
      "<a href=\"/Archives/edgar/data/1499807/000149980717000106/0001499807-17-000106-index.htm\">[html]</a>\n",
      "<a href=\"/Archives/edgar/data/1499807/000149980717000106/0001499807-17-000106.txt\">[text]</a>\n",
      "<a href=\"/cgi-bin/browse-edgar?action=getcompany&amp;CIK=0001040620&amp;owner=include&amp;count=40\">KOSTUIK JOHN PHILIP MD (0001040620) (Reporting)</a>\n",
      "<a href=\"/Archives/edgar/data/1040620/000149980717000106/0001499807-17-000106-index.htm\">[html]</a>\n",
      "<a href=\"/Archives/edgar/data/1040620/000149980717000106/0001499807-17-000106.txt\">[text]</a>\n",
      "<a href=\"/cgi-bin/browse-edgar?action=getcompany&amp;filenum=001-36443&amp;owner=include&amp;count=40\">001-36443</a>\n",
      "<a href=\"/cgi-bin/browse-edgar?action=getcompany&amp;CIK=0001681531&amp;owner=include&amp;count=40\">Goldberg Bradley (0001681531) (Reporting)</a>\n",
      "<a href=\"/Archives/edgar/data/1681531/000120919117050220/0001209191-17-050220-index.htm\">[html]</a>\n",
      "<a href=\"/Archives/edgar/data/1681531/000120919117050220/0001209191-17-050220.txt\">[text]</a>\n",
      "<a href=\"/cgi-bin/browse-edgar?action=getcompany&amp;filenum=001-32750&amp;owner=include&amp;count=40\">001-32750</a>\n",
      "<a href=\"/cgi-bin/browse-edgar?action=getcompany&amp;CIK=0001314475&amp;owner=include&amp;count=40\">SPARK NETWORKS INC (0001314475) (Issuer)</a>\n",
      "<a href=\"/Archives/edgar/data/1314475/000120919117050220/0001209191-17-050220-index.htm\">[html]</a>\n",
      "<a href=\"/Archives/edgar/data/1314475/000120919117050220/0001209191-17-050220.txt\">[text]</a>\n",
      "<a href=\"/cgi-bin/browse-edgar?action=getcompany&amp;CIK=0001681533&amp;owner=include&amp;count=40\">Rosenthal Daniel Max (0001681533) (Reporting)</a>\n",
      "<a href=\"/Archives/edgar/data/1681533/000120919117050218/0001209191-17-050218-index.htm\">[html]</a>\n",
      "<a href=\"/Archives/edgar/data/1681533/000120919117050218/0001209191-17-050218.txt\">[text]</a>\n",
      "<a href=\"/cgi-bin/browse-edgar?action=getcompany&amp;filenum=001-32750&amp;owner=include&amp;count=40\">001-32750</a>\n",
      "<a href=\"/cgi-bin/browse-edgar?action=getcompany&amp;CIK=0001314475&amp;owner=include&amp;count=40\">SPARK NETWORKS INC (0001314475) (Issuer)</a>\n",
      "<a href=\"/Archives/edgar/data/1314475/000120919117050218/0001209191-17-050218-index.htm\">[html]</a>\n",
      "<a href=\"/Archives/edgar/data/1314475/000120919117050218/0001209191-17-050218.txt\">[text]</a>\n",
      "<a href=\"/cgi-bin/browse-edgar?action=getcompany&amp;CIK=0001359098&amp;owner=include&amp;count=40\">Pacelli Steven Robert (0001359098) (Reporting)</a>\n",
      "<a href=\"/Archives/edgar/data/1359098/000109355717000181/0001093557-17-000181-index.htm\">[html]</a>\n",
      "<a href=\"/Archives/edgar/data/1359098/000109355717000181/0001093557-17-000181.txt\">[text]</a>\n",
      "<a href=\"/cgi-bin/browse-edgar?action=getcompany&amp;filenum=000-51222&amp;owner=include&amp;count=40\">000-51222</a>\n",
      "<a href=\"/cgi-bin/browse-edgar?action=getcompany&amp;CIK=0001093557&amp;owner=include&amp;count=40\">DEXCOM INC (0001093557) (Issuer)</a>\n",
      "<a href=\"/Archives/edgar/data/1093557/000109355717000181/0001093557-17-000181-index.htm\">[html]</a>\n",
      "<a href=\"/Archives/edgar/data/1093557/000109355717000181/0001093557-17-000181.txt\">[text]</a>\n",
      "<a href=\"/cgi-bin/browse-edgar?action=getcompany&amp;CIK=0001466545&amp;owner=include&amp;count=40\">DOUBLEDAY RICHARD (0001466545) (Reporting)</a>\n",
      "<a href=\"/Archives/edgar/data/1466545/000109355717000180/0001093557-17-000180-index.htm\">[html]</a>\n",
      "<a href=\"/Archives/edgar/data/1466545/000109355717000180/0001093557-17-000180.txt\">[text]</a>\n",
      "<a href=\"/cgi-bin/browse-edgar?action=getcompany&amp;filenum=000-51222&amp;owner=include&amp;count=40\">000-51222</a>\n",
      "<a href=\"/cgi-bin/browse-edgar?action=getcompany&amp;CIK=0001093557&amp;owner=include&amp;count=40\">DEXCOM INC (0001093557) (Issuer)</a>\n",
      "<a href=\"/Archives/edgar/data/1093557/000109355717000180/0001093557-17-000180-index.htm\">[html]</a>\n",
      "<a href=\"/Archives/edgar/data/1093557/000109355717000180/0001093557-17-000180.txt\">[text]</a>\n",
      "<a href=\"/cgi-bin/browse-edgar?action=getcompany&amp;CIK=0001610762&amp;owner=include&amp;count=40\">ACE HEATHER S (0001610762) (Reporting)</a>\n",
      "<a href=\"/Archives/edgar/data/1610762/000109355717000179/0001093557-17-000179-index.htm\">[html]</a>\n",
      "<a href=\"/Archives/edgar/data/1610762/000109355717000179/0001093557-17-000179.txt\">[text]</a>\n",
      "<a href=\"/cgi-bin/browse-edgar?action=getcompany&amp;filenum=000-51222&amp;owner=include&amp;count=40\">000-51222</a>\n",
      "<a href=\"/cgi-bin/browse-edgar?action=getcompany&amp;CIK=0001093557&amp;owner=include&amp;count=40\">DEXCOM INC (0001093557) (Issuer)</a>\n",
      "<a href=\"/Archives/edgar/data/1093557/000109355717000179/0001093557-17-000179-index.htm\">[html]</a>\n",
      "<a href=\"/Archives/edgar/data/1093557/000109355717000179/0001093557-17-000179.txt\">[text]</a>\n",
      "<a href=\"/cgi-bin/browse-edgar?action=getcompany&amp;CIK=0001265855&amp;owner=include&amp;count=40\">SOPER STANLEY E (0001265855) (Reporting)</a>\n",
      "<a href=\"/Archives/edgar/data/1265855/000139667717000032/0001396677-17-000032-index.htm\">[html]</a>\n",
      "<a href=\"/Archives/edgar/data/1265855/000139667717000032/0001396677-17-000032.txt\">[text]</a>\n",
      "<a href=\"/cgi-bin/browse-edgar?action=getcompany&amp;filenum=000-23731&amp;owner=include&amp;count=40\">000-23731</a>\n",
      "<a href=\"/cgi-bin/browse-edgar?action=getcompany&amp;CIK=0001050007&amp;owner=include&amp;count=40\">NUTRACEUTICAL INTERNATIONAL CORP (0001050007) (Issuer)</a>\n",
      "<a href=\"/Archives/edgar/data/1050007/000139667717000032/0001396677-17-000032-index.htm\">[html]</a>\n",
      "<a href=\"/Archives/edgar/data/1050007/000139667717000032/0001396677-17-000032.txt\">[text]</a>\n",
      "<a href=\"/cgi-bin/browse-edgar?action=getcompany&amp;CIK=0001622429&amp;owner=include&amp;count=40\">desGarennes Kenneth (0001622429) (Reporting)</a>\n",
      "<a href=\"/Archives/edgar/data/1622429/000120919117050216/0001209191-17-050216-index.htm\">[html]</a>\n",
      "<a href=\"/Archives/edgar/data/1622429/000120919117050216/0001209191-17-050216.txt\">[text]</a>\n",
      "<a href=\"/cgi-bin/browse-edgar?action=getcompany&amp;filenum=001-36690&amp;owner=include&amp;count=40\">001-36690</a>\n",
      "<a href=\"/cgi-bin/browse-edgar?action=getcompany&amp;CIK=0001608249&amp;owner=include&amp;count=40\">Zayo Group Holdings, Inc. (0001608249) (Issuer)</a>\n",
      "<a href=\"/Archives/edgar/data/1608249/000120919117050216/0001209191-17-050216-index.htm\">[html]</a>\n",
      "<a href=\"/Archives/edgar/data/1608249/000120919117050216/0001209191-17-050216.txt\">[text]</a>\n",
      "<a href=\"/cgi-bin/browse-edgar?action=getcompany&amp;CIK=0001547394&amp;owner=include&amp;count=40\">Knight David (0001547394) (Reporting)</a>\n",
      "<a href=\"/Archives/edgar/data/1547394/000114036117033219/0001140361-17-033219-index.htm\">[html]</a>\n",
      "<a href=\"/Archives/edgar/data/1547394/000114036117033219/0001140361-17-033219.txt\">[text]</a>\n",
      "<a href=\"/cgi-bin/browse-edgar?action=getcompany&amp;filenum=001-35506&amp;owner=include&amp;count=40\">001-35506</a>\n",
      "<a href=\"/cgi-bin/browse-edgar?action=getcompany&amp;CIK=0001212458&amp;owner=include&amp;count=40\">PROOFPOINT INC (0001212458) (Issuer)</a>\n",
      "<a href=\"/Archives/edgar/data/1212458/000114036117033219/0001140361-17-033219-index.htm\">[html]</a>\n",
      "<a href=\"/Archives/edgar/data/1212458/000114036117033219/0001140361-17-033219.txt\">[text]</a>\n",
      "<a href=\"/cgi-bin/browse-edgar?action=getcompany&amp;CIK=0001547434&amp;owner=include&amp;count=40\">Steele Gary (0001547434) (Reporting)</a>\n",
      "<a href=\"/Archives/edgar/data/1547434/000114036117033218/0001140361-17-033218-index.htm\">[html]</a>\n",
      "<a href=\"/Archives/edgar/data/1547434/000114036117033218/0001140361-17-033218.txt\">[text]</a>\n",
      "<a href=\"/cgi-bin/browse-edgar?action=getcompany&amp;filenum=001-35506&amp;owner=include&amp;count=40\">001-35506</a>\n",
      "<a href=\"/cgi-bin/browse-edgar?action=getcompany&amp;CIK=0001212458&amp;owner=include&amp;count=40\">PROOFPOINT INC (0001212458) (Issuer)</a>\n",
      "<a href=\"/Archives/edgar/data/1212458/000114036117033218/0001140361-17-033218-index.htm\">[html]</a>\n",
      "<a href=\"/Archives/edgar/data/1212458/000114036117033218/0001140361-17-033218.txt\">[text]</a>\n",
      "<a href=\"/index.htm\">Home</a>\n",
      "<a href=\"/edgar/searchedgar/webusers.htm\">Search the Next-Generation EDGAR System</a>\n",
      "<a href=\"javascript:history.back()\">Previous Page</a>\n"
     ]
    }
   ],
   "source": [
    "for i in soup.find_all('a'):\n",
    "    print(i)"
   ]
  },
  {
   "cell_type": "code",
   "execution_count": 251,
   "metadata": {
    "collapsed": true
   },
   "outputs": [],
   "source": [
    "# find all links in this page\n",
    "link_list = []\n",
    "for link in soup.find_all('a'):\n",
    "    link_list.append(link.get('href'))"
   ]
  },
  {
   "cell_type": "code",
   "execution_count": 436,
   "metadata": {},
   "outputs": [
    {
     "data": {
      "text/plain": [
       "['/Archives/edgar/data/897911/000114036117033217/0001140361-17-033217.txt',\n",
       " '/Archives/edgar/data/840715/000114036117033217/0001140361-17-033217.txt',\n",
       " '/Archives/edgar/data/1700226/000156276217000145/0001562762-17-000145.txt',\n",
       " '/Archives/edgar/data/1692427/000156276217000145/0001562762-17-000145.txt',\n",
       " '/Archives/edgar/data/1701195/000156276217000143/0001562762-17-000143.txt',\n",
       " '/Archives/edgar/data/1692427/000156276217000143/0001562762-17-000143.txt',\n",
       " '/Archives/edgar/data/1619901/000114036117033216/0001140361-17-033216.txt',\n",
       " '/Archives/edgar/data/912093/000114036117033216/0001140361-17-033216.txt',\n",
       " '/Archives/edgar/data/1534992/000121465917005279/0001214659-17-005279.txt',\n",
       " '/Archives/edgar/data/1275002/000121465917005279/0001214659-17-005279.txt',\n",
       " '/Archives/edgar/data/1373715/000137371517000144/0001373715-17-000144.txt',\n",
       " '/Archives/edgar/data/1259158/000137371517000144/0001373715-17-000144.txt',\n",
       " '/Archives/edgar/data/1278388/000091957417006374/0000919574-17-006374.txt',\n",
       " '/Archives/edgar/data/1278387/000091957417006374/0000919574-17-006374.txt',\n",
       " '/Archives/edgar/data/1278386/000091957417006374/0000919574-17-006374.txt',\n",
       " '/Archives/edgar/data/876343/000091957417006374/0000919574-17-006374.txt',\n",
       " '/Archives/edgar/data/1715483/000120919117050212/0001209191-17-050212.txt',\n",
       " '/Archives/edgar/data/1669162/000120919117050212/0001209191-17-050212.txt',\n",
       " '/Archives/edgar/data/1635083/000114036117033214/0001140361-17-033214.txt',\n",
       " '/Archives/edgar/data/912093/000114036117033214/0001140361-17-033214.txt',\n",
       " '/Archives/edgar/data/1715429/000120919117050211/0001209191-17-050211.txt',\n",
       " '/Archives/edgar/data/1370053/000120919117050211/0001209191-17-050211.txt',\n",
       " '/Archives/edgar/data/1464938/000005448017000154/0000054480-17-000154.txt',\n",
       " '/Archives/edgar/data/54480/000005448017000154/0000054480-17-000154.txt',\n",
       " '/Archives/edgar/data/1256949/000103939917000071/0001039399-17-000071.txt',\n",
       " '/Archives/edgar/data/1039399/000103939917000071/0001039399-17-000071.txt',\n",
       " '/Archives/edgar/data/1715429/000120919117050210/0001209191-17-050210.txt',\n",
       " '/Archives/edgar/data/1370053/000120919117050210/0001209191-17-050210.txt',\n",
       " '/Archives/edgar/data/1568669/000112760217026424/0001127602-17-026424.txt',\n",
       " '/Archives/edgar/data/1468934/000112760217026424/0001127602-17-026424.txt',\n",
       " '/Archives/edgar/data/1343670/000101297517000662/0001012975-17-000662.txt',\n",
       " '/Archives/edgar/data/1141103/000101297517000662/0001012975-17-000662.txt',\n",
       " '/Archives/edgar/data/1671688/000095011717000450/0000950117-17-000450.txt',\n",
       " '/Archives/edgar/data/773840/000095011717000450/0000950117-17-000450.txt',\n",
       " '/Archives/edgar/data/1637814/000160971117000188/0001609711-17-000188.txt',\n",
       " '/Archives/edgar/data/1609711/000160971117000188/0001609711-17-000188.txt',\n",
       " '/Archives/edgar/data/1637793/000160971117000187/0001609711-17-000187.txt',\n",
       " '/Archives/edgar/data/1609711/000160971117000187/0001609711-17-000187.txt',\n",
       " '/Archives/edgar/data/1609711/000160971117000186/0001609711-17-000186.txt',\n",
       " '/Archives/edgar/data/1365952/000160971117000186/0001609711-17-000186.txt']"
      ]
     },
     "execution_count": 436,
     "metadata": {},
     "output_type": "execute_result"
    }
   ],
   "source": [
    "Archives = [link for link in link_list if link.startswith('/Archives') and link.endswith('.txt')]\n",
    "cgi_bin = [link for link in link_list if link.startswith('/cgi') and 'CIK' in link]\n",
    "# len(set(cgi_bin)) = 35\n",
    "cgi_bin \n",
    "Archives"
   ]
  },
  {
   "cell_type": "code",
   "execution_count": 282,
   "metadata": {
    "collapsed": true
   },
   "outputs": [],
   "source": [
    "# soup.findAll('a', href=re.compile('^http://www.nhl.com/ice/boxscore.htm\\?id='))\n",
    "tenQ_list = []\n",
    "import re\n",
    "for i in range(len(cgi_bin)):\n",
    "    r = requests.get(\"https://www.sec.gov\"+cgi_bin[i])\n",
    "    soup = BeautifulSoup(r.text, 'html.parser')\n",
    "    if soup.find_all(text=re.compile('10-Q')) != []:\n",
    "        tenQ_list.append(\"https://www.sec.gov\"+cgi_bin[i])\n",
    "            "
   ]
  },
  {
   "cell_type": "code",
   "execution_count": 283,
   "metadata": {},
   "outputs": [
    {
     "data": {
      "text/plain": [
       "['https://www.sec.gov/cgi-bin/browse-edgar?action=getcompany&CIK=0000840715&owner=include&count=40',\n",
       " 'https://www.sec.gov/cgi-bin/browse-edgar?action=getcompany&CIK=0001692427&owner=include&count=40',\n",
       " 'https://www.sec.gov/cgi-bin/browse-edgar?action=getcompany&CIK=0001692427&owner=include&count=40',\n",
       " 'https://www.sec.gov/cgi-bin/browse-edgar?action=getcompany&CIK=0000912093&owner=include&count=40',\n",
       " 'https://www.sec.gov/cgi-bin/browse-edgar?action=getcompany&CIK=0001534992&owner=include&count=40',\n",
       " 'https://www.sec.gov/cgi-bin/browse-edgar?action=getcompany&CIK=0001373715&owner=include&count=40',\n",
       " 'https://www.sec.gov/cgi-bin/browse-edgar?action=getcompany&CIK=0000876343&owner=include&count=40',\n",
       " 'https://www.sec.gov/cgi-bin/browse-edgar?action=getcompany&CIK=0001669162&owner=include&count=40',\n",
       " 'https://www.sec.gov/cgi-bin/browse-edgar?action=getcompany&CIK=0000912093&owner=include&count=40',\n",
       " 'https://www.sec.gov/cgi-bin/browse-edgar?action=getcompany&CIK=0001370053&owner=include&count=40',\n",
       " 'https://www.sec.gov/cgi-bin/browse-edgar?action=getcompany&CIK=0000054480&owner=include&count=40',\n",
       " 'https://www.sec.gov/cgi-bin/browse-edgar?action=getcompany&CIK=0001039399&owner=include&count=40',\n",
       " 'https://www.sec.gov/cgi-bin/browse-edgar?action=getcompany&CIK=0001370053&owner=include&count=40',\n",
       " 'https://www.sec.gov/cgi-bin/browse-edgar?action=getcompany&CIK=0001568669&owner=include&count=40',\n",
       " 'https://www.sec.gov/cgi-bin/browse-edgar?action=getcompany&CIK=0001141103&owner=include&count=40',\n",
       " 'https://www.sec.gov/cgi-bin/browse-edgar?action=getcompany&CIK=0000773840&owner=include&count=40',\n",
       " 'https://www.sec.gov/cgi-bin/browse-edgar?action=getcompany&CIK=0001609711&owner=include&count=40',\n",
       " 'https://www.sec.gov/cgi-bin/browse-edgar?action=getcompany&CIK=0001609711&owner=include&count=40',\n",
       " 'https://www.sec.gov/cgi-bin/browse-edgar?action=getcompany&CIK=0001609711&owner=include&count=40']"
      ]
     },
     "execution_count": 283,
     "metadata": {},
     "output_type": "execute_result"
    }
   ],
   "source": [
    "tenQ_list"
   ]
  },
  {
   "cell_type": "code",
   "execution_count": 313,
   "metadata": {
    "collapsed": true
   },
   "outputs": [],
   "source": [
    "tenq_link = []\n",
    "for i in range(len(tenQ_list)):   \n",
    "    r = requests.get(tenQ_list[i])\n",
    "    soup = BeautifulSoup(r.text, 'html.parser')\n",
    "    context = soup.find(name = re.compile('.*'),text=re.compile('10-Q')).findNext()\n",
    "    link = \"https://www.sec.gov\" + context.find('a')['href']\n",
    "    tenq_link.append(link)"
   ]
  },
  {
   "cell_type": "code",
   "execution_count": 314,
   "metadata": {},
   "outputs": [
    {
     "data": {
      "text/plain": [
       "['https://www.sec.gov/Archives/edgar/data/840715/000149315217008781/0001493152-17-008781-index.htm',\n",
       " 'https://www.sec.gov/Archives/edgar/data/1692427/000169242717000023/0001692427-17-000023-index.htm',\n",
       " 'https://www.sec.gov/Archives/edgar/data/1692427/000169242717000023/0001692427-17-000023-index.htm',\n",
       " 'https://www.sec.gov/Archives/edgar/data/912093/000091209317000015/0000912093-17-000015-index.htm',\n",
       " 'https://www.sec.gov/Archives/edgar/data/1534992/000153499217000031/0001534992-17-000031-index.htm',\n",
       " 'https://www.sec.gov/Archives/edgar/data/1373715/000137371517000125/0001373715-17-000125-index.htm',\n",
       " 'https://www.sec.gov/Archives/edgar/data/876343/000114036117030912/0001140361-17-030912-index.htm',\n",
       " 'https://www.sec.gov/Archives/edgar/data/1669162/000166916217000038/0001669162-17-000038-index.htm',\n",
       " 'https://www.sec.gov/Archives/edgar/data/912093/000091209317000015/0000912093-17-000015-index.htm',\n",
       " 'https://www.sec.gov/Archives/edgar/data/1370053/000137005317000012/0001370053-17-000012-index.htm',\n",
       " 'https://www.sec.gov/Archives/edgar/data/54480/000005448017000144/0000054480-17-000144-index.htm',\n",
       " 'https://www.sec.gov/Archives/edgar/data/1039399/000103939917000067/0001039399-17-000067-index.htm',\n",
       " 'https://www.sec.gov/Archives/edgar/data/1370053/000137005317000012/0001370053-17-000012-index.htm',\n",
       " 'https://www.sec.gov/Archives/edgar/data/1568669/000155837017006175/0001558370-17-006175-index.htm',\n",
       " 'https://www.sec.gov/Archives/edgar/data/1141103/000162828017008076/0001628280-17-008076-index.htm',\n",
       " 'https://www.sec.gov/Archives/edgar/data/773840/000093041317002534/0000930413-17-002534-index.htm',\n",
       " 'https://www.sec.gov/Archives/edgar/data/1609711/000160971117000164/0001609711-17-000164-index.htm',\n",
       " 'https://www.sec.gov/Archives/edgar/data/1609711/000160971117000164/0001609711-17-000164-index.htm',\n",
       " 'https://www.sec.gov/Archives/edgar/data/1609711/000160971117000164/0001609711-17-000164-index.htm']"
      ]
     },
     "execution_count": 314,
     "metadata": {},
     "output_type": "execute_result"
    }
   ],
   "source": [
    "tenq_link"
   ]
  },
  {
   "cell_type": "code",
   "execution_count": 316,
   "metadata": {
    "collapsed": true
   },
   "outputs": [],
   "source": [
    "r2 = requests.get(tenq_link[0])\n",
    "soup2 = BeautifulSoup(r2.text, 'html.parser')"
   ]
  },
  {
   "cell_type": "code",
   "execution_count": 319,
   "metadata": {},
   "outputs": [
    {
     "data": {
      "text/plain": [
       "['HTML PUBLIC \"-//W3C//DTD HTML 4.01 Transitional//EN\" \"http://www.w3.org/TR/html4/loose.dtd\"',\n",
       " '\\n',\n",
       " <html xmlns=\"http://www.w3.org/1999/xhtml\">\n",
       " <head>\n",
       " <meta content=\"text/html; charset=utf-8\" http-equiv=\"Content-Type\"/>\n",
       " <title>EDGAR Filing Documents for 0001493152-17-008781</title>\n",
       " <link href=\"/include/interactive.css\" rel=\"stylesheet\" type=\"text/css\"/>\n",
       " </head>\n",
       " <body style=\"margin: 0\">\n",
       " <!-- SEC Web Analytics - For information please visit: https://www.sec.gov/privacy.htm#collectedinfo -->\n",
       " <noscript><iframe height=\"0\" src=\"//www.googletagmanager.com/ns.html?id=GTM-TD3BKV\" style=\"display:none;visibility:hidden\" width=\"0\"></iframe></noscript>\n",
       " <script>(function(w,d,s,l,i){w[l]=w[l]||[];w[l].push({'gtm.start':\n",
       " new Date().getTime(),event:'gtm.js'});var f=d.getElementsByTagName(s)[0],\n",
       " j=d.createElement(s),dl=l!='dataLayer'?'&l='+l:'';j.async=true;j.src=\n",
       " '//www.googletagmanager.com/gtm.js?id='+i+dl;f.parentNode.insertBefore(j,f);\n",
       " })(window,document,'script','dataLayer','GTM-TD3BKV');</script>\n",
       " <!-- End SEC Web Analytics -->\n",
       " <noscript><div style=\"color:red; font-weight:bold; text-align:center;\">This page uses Javascript. Your browser either doesn't support Javascript or you have it turned off. To see this page as it is meant to appear please use a Javascript enabled browser.</div></noscript>\n",
       " <!-- BEGIN BANNER -->\n",
       " <div id=\"headerTop\">\n",
       " <div id=\"Nav\"><a href=\"/index.htm\">Home</a> | <a href=\"/cgi-bin/browse-edgar?action=getcurrent\">Latest Filings</a> | <a href=\"javascript:history.back()\">Previous Page</a></div>\n",
       " <div id=\"seal\"><a href=\"/index.htm\"><img alt=\"SEC Seal\" border=\"0\" src=\"/images/sealTop.gif\"/></a></div>\n",
       " <div id=\"secWordGraphic\"><img alt=\"SEC Banner\" src=\"/images/bannerTitle.gif\"/></div>\n",
       " </div>\n",
       " <div id=\"headerBottom\">\n",
       " <div id=\"searchHome\"><a href=\"/edgar/searchedgar/webusers.htm\">Search the Next-Generation EDGAR System</a></div>\n",
       " <div id=\"PageTitle\">Filing Detail</div>\n",
       " </div>\n",
       " <!-- END BANNER -->\n",
       " <!-- BEGIN BREADCRUMBS -->\n",
       " <div id=\"breadCrumbs\">\n",
       " <ul>\n",
       " <li><a href=\"/index.htm\">SEC Home</a> »</li>\n",
       " <li><a href=\"/edgar/searchedgar/webusers.htm\">Search the Next-Generation EDGAR System</a> »</li>\n",
       " <li><a href=\"/edgar/searchedgar/companysearch.html\">Company Search</a> »</li>\n",
       " <li class=\"last\">Current Page</li>\n",
       " </ul>\n",
       " </div>\n",
       " <!-- END BREADCRUMBS -->\n",
       " <div id=\"contentDiv\">\n",
       " <!-- START FILING DIV -->\n",
       " <div id=\"formDiv\">\n",
       " <div id=\"formHeader\">\n",
       " <div id=\"formName\">\n",
       " <strong>Form 10-Q</strong> - Quarterly report [Sections 13 or 15(d)]: \n",
       "       </div>\n",
       " <div id=\"secNum\">\n",
       " <strong><acronym title=\"Securities and Exchange Commission\">SEC</acronym> Accession <acronym title=\"Number\">No.</acronym></strong> 0001493152-17-008781\n",
       "       </div>\n",
       " </div>\n",
       " <div class=\"formContent\">\n",
       " <div class=\"formGrouping\">\n",
       " <div class=\"infoHead\">Filing Date</div>\n",
       " <div class=\"info\">2017-08-09</div>\n",
       " <div class=\"infoHead\">Accepted</div>\n",
       " <div class=\"info\">2017-08-09 17:29:49</div>\n",
       " <div class=\"infoHead\">Documents</div>\n",
       " <div class=\"info\">58</div>\n",
       " </div>\n",
       " <div class=\"formGrouping\">\n",
       " <div class=\"infoHead\">Period of Report</div>\n",
       " <div class=\"info\">2017-06-30</div>\n",
       " </div>\n",
       " <div style=\"clear:both\"></div>\n",
       " </div>\n",
       " </div>\n",
       " <!-- END FILING DIV -->\n",
       " <!-- START DOCUMENT DIV -->\n",
       " <div style=\"margin: 10px 0px 10px 0px; border: solid 1px #3F509D; background-color: #F5F5EB;\">\n",
       " <div id=\"seriesDiv\" style=\"padding: 4px 0px 4px 0px; font-size: 12px; margin: 0px 2px 0px 5px; width: 100%; overflow:hidden\">\n",
       " <a href=\"/cgi-bin/viewer?action=view&amp;cik=840715&amp;accession_number=0001493152-17-008781&amp;xbrl_type=v\" id=\"interactiveDataBtn\"> Interactive Data</a>\n",
       " </div>\n",
       " </div>\n",
       " <div id=\"formDiv\">\n",
       " <div style=\"padding: 0px 0px 4px 0px; font-size: 12px; margin: 0px 2px 0px 5px; width: 100%; overflow:hidden\">\n",
       " <p>Document Format Files</p>\n",
       " <table class=\"tableFile\" summary=\"Document Format Files\">\n",
       " <tr>\n",
       " <th scope=\"col\" style=\"width: 5%;\"><acronym title=\"Sequence Number\">Seq</acronym></th>\n",
       " <th scope=\"col\" style=\"width: 40%;\">Description</th>\n",
       " <th scope=\"col\" style=\"width: 20%;\">Document</th>\n",
       " <th scope=\"col\" style=\"width: 10%;\">Type</th>\n",
       " <th scope=\"col\">Size</th>\n",
       " </tr>\n",
       " <tr>\n",
       " <td scope=\"row\">1</td>\n",
       " <td scope=\"row\"></td>\n",
       " <td scope=\"row\"><a href=\"/Archives/edgar/data/840715/000149315217008781/form10-q.htm\">form10-q.htm</a></td>\n",
       " <td scope=\"row\">10-Q</td>\n",
       " <td scope=\"row\">464408</td>\n",
       " </tr>\n",
       " <tr class=\"blueRow\">\n",
       " <td scope=\"row\">2</td>\n",
       " <td scope=\"row\"></td>\n",
       " <td scope=\"row\"><a href=\"/Archives/edgar/data/840715/000149315217008781/image_001.jpg\">image_001.jpg</a></td>\n",
       " <td scope=\"row\">GRAPHIC</td>\n",
       " <td scope=\"row\">5375</td>\n",
       " </tr>\n",
       " <tr>\n",
       " <td scope=\"row\">3</td>\n",
       " <td scope=\"row\"></td>\n",
       " <td scope=\"row\"><a href=\"/Archives/edgar/data/840715/000149315217008781/ex31-1.htm\">ex31-1.htm</a></td>\n",
       " <td scope=\"row\">EX-31.1</td>\n",
       " <td scope=\"row\">18349</td>\n",
       " </tr>\n",
       " <tr class=\"blueRow\">\n",
       " <td scope=\"row\">4</td>\n",
       " <td scope=\"row\"></td>\n",
       " <td scope=\"row\"><a href=\"/Archives/edgar/data/840715/000149315217008781/ex31-2.htm\">ex31-2.htm</a></td>\n",
       " <td scope=\"row\">EX-31.2</td>\n",
       " <td scope=\"row\">18584</td>\n",
       " </tr>\n",
       " <tr>\n",
       " <td scope=\"row\">5</td>\n",
       " <td scope=\"row\"></td>\n",
       " <td scope=\"row\"><a href=\"/Archives/edgar/data/840715/000149315217008781/ex32-1.htm\">ex32-1.htm</a></td>\n",
       " <td scope=\"row\">EX-32.1</td>\n",
       " <td scope=\"row\">5778</td>\n",
       " </tr>\n",
       " <tr class=\"blueRow\">\n",
       " <td scope=\"row\">6</td>\n",
       " <td scope=\"row\"></td>\n",
       " <td scope=\"row\"><a href=\"/Archives/edgar/data/840715/000149315217008781/ex32-2.htm\">ex32-2.htm</a></td>\n",
       " <td scope=\"row\">EX-32.2</td>\n",
       " <td scope=\"row\">5937</td>\n",
       " </tr>\n",
       " <tr>\n",
       " <td scope=\"row\"> </td>\n",
       " <td scope=\"row\">Complete submission text file</td>\n",
       " <td scope=\"row\"><a href=\"/Archives/edgar/data/840715/000149315217008781/0001493152-17-008781.txt\">0001493152-17-008781.txt</a></td>\n",
       " <td scope=\"row\"> </td>\n",
       " <td scope=\"row\">2838324</td>\n",
       " </tr>\n",
       " </table>\n",
       " </div>\n",
       " </div>\n",
       " <div id=\"formDiv\">\n",
       " <div style=\"padding: 0px 0px 4px 0px; font-size: 12px; margin: 0px 2px 0px 5px; width: 100%; overflow:hidden\">\n",
       " <p>Data Files</p>\n",
       " <table class=\"tableFile\" summary=\"Data Files\">\n",
       " <tr>\n",
       " <th scope=\"col\" style=\"width: 5%;\"><acronym title=\"Sequence Number\">Seq</acronym></th>\n",
       " <th scope=\"col\" style=\"width: 40%;\">Description</th>\n",
       " <th scope=\"col\" style=\"width: 20%;\">Document</th>\n",
       " <th scope=\"col\" style=\"width: 10%;\">Type</th>\n",
       " <th scope=\"col\">Size</th>\n",
       " </tr>\n",
       " <tr>\n",
       " <td scope=\"row\">7</td>\n",
       " <td scope=\"row\">XBRL INSTANCE FILE</td>\n",
       " <td scope=\"row\"><a href=\"/Archives/edgar/data/840715/000149315217008781/clro-20170630.xml\">clro-20170630.xml</a></td>\n",
       " <td scope=\"row\">EX-101.INS</td>\n",
       " <td scope=\"row\">495128</td>\n",
       " </tr>\n",
       " <tr class=\"blueRow\">\n",
       " <td scope=\"row\">8</td>\n",
       " <td scope=\"row\">XBRL SCHEMA FILE</td>\n",
       " <td scope=\"row\"><a href=\"/Archives/edgar/data/840715/000149315217008781/clro-20170630.xsd\">clro-20170630.xsd</a></td>\n",
       " <td scope=\"row\">EX-101.SCH</td>\n",
       " <td scope=\"row\">33455</td>\n",
       " </tr>\n",
       " <tr>\n",
       " <td scope=\"row\">9</td>\n",
       " <td scope=\"row\">XBRL CALCULATION FILE</td>\n",
       " <td scope=\"row\"><a href=\"/Archives/edgar/data/840715/000149315217008781/clro-20170630_cal.xml\">clro-20170630_cal.xml</a></td>\n",
       " <td scope=\"row\">EX-101.CAL</td>\n",
       " <td scope=\"row\">61805</td>\n",
       " </tr>\n",
       " <tr class=\"blueRow\">\n",
       " <td scope=\"row\">10</td>\n",
       " <td scope=\"row\">XBRL DEFINITION FILE</td>\n",
       " <td scope=\"row\"><a href=\"/Archives/edgar/data/840715/000149315217008781/clro-20170630_def.xml\">clro-20170630_def.xml</a></td>\n",
       " <td scope=\"row\">EX-101.DEF</td>\n",
       " <td scope=\"row\">86684</td>\n",
       " </tr>\n",
       " <tr>\n",
       " <td scope=\"row\">11</td>\n",
       " <td scope=\"row\">XBRL LABEL FILE</td>\n",
       " <td scope=\"row\"><a href=\"/Archives/edgar/data/840715/000149315217008781/clro-20170630_lab.xml\">clro-20170630_lab.xml</a></td>\n",
       " <td scope=\"row\">EX-101.LAB</td>\n",
       " <td scope=\"row\">257954</td>\n",
       " </tr>\n",
       " <tr class=\"blueRow\">\n",
       " <td scope=\"row\">12</td>\n",
       " <td scope=\"row\">XBRL PRESENTATION FILE</td>\n",
       " <td scope=\"row\"><a href=\"/Archives/edgar/data/840715/000149315217008781/clro-20170630_pre.xml\">clro-20170630_pre.xml</a></td>\n",
       " <td scope=\"row\">EX-101.PRE</td>\n",
       " <td scope=\"row\">189720</td>\n",
       " </tr>\n",
       " </table>\n",
       " </div>\n",
       " </div>\n",
       " <!-- END DOCUMENT DIV -->\n",
       " <!-- START FILER DIV -->\n",
       " <div id=\"filerDiv\">\n",
       " <div class=\"mailer\">Mailing Address\n",
       "       <span class=\"mailerAddress\">5225 WILEY POST WAY</span>\n",
       " <span class=\"mailerAddress\">SUITE 500</span>\n",
       " <span class=\"mailerAddress\">\n",
       " SALT LAKE CITY UT 84116      </span>\n",
       " </div>\n",
       " <div class=\"mailer\">Business Address\n",
       "       <span class=\"mailerAddress\">5225 WILEY POST WAY</span>\n",
       " <span class=\"mailerAddress\">SUITE 500</span>\n",
       " <span class=\"mailerAddress\">\n",
       " SALT LAKE CITY UT 84116      </span>\n",
       " <span class=\"mailerAddress\">8019757200</span>\n",
       " </div>\n",
       " <div class=\"companyInfo\">\n",
       " <span class=\"companyName\">CLEARONE INC (Filer)\n",
       "  <acronym title=\"Central Index Key\">CIK</acronym>: <a href=\"/cgi-bin/browse-edgar?CIK=0000840715&amp;action=getcompany\">0000840715 (see all company filings)</a></span>\n",
       " <p class=\"identInfo\"><acronym title=\"Internal Revenue Service Number\">IRS No.</acronym>: <strong>870398877</strong> | State of Incorp.: <strong>UT</strong> | Fiscal Year End: <strong>1231</strong><br/>Type: <strong>10-Q</strong> | Act: <strong>34</strong> | File No.: <a href=\"/cgi-bin/browse-edgar?filenum=001-33660&amp;action=getcompany\"><strong>001-33660</strong></a> | Film No.: <strong>171019042</strong><br/><acronym title=\"Standard Industrial Code\">SIC</acronym>: <b><a href=\"/cgi-bin/browse-edgar?action=getcompany&amp;SIC=3661&amp;owner=include\">3661</a></b> Telephone &amp; Telegraph Apparatus<br/>Assistant Director 11</p>\n",
       " </div>\n",
       " <div class=\"clear\"></div>\n",
       " </div>\n",
       " <!-- END FILER DIV -->\n",
       " </div>\n",
       " </body></html>]"
      ]
     },
     "execution_count": 319,
     "metadata": {},
     "output_type": "execute_result"
    }
   ],
   "source": [
    "soup2.contents"
   ]
  },
  {
   "cell_type": "code",
   "execution_count": 392,
   "metadata": {},
   "outputs": [
    {
     "data": {
      "text/plain": [
       "[<a href=\"/Archives/edgar/data/840715/000149315217008781/form10-q.htm\">form10-q.htm</a>]"
      ]
     },
     "execution_count": 392,
     "metadata": {},
     "output_type": "execute_result"
    }
   ],
   "source": [
    "last_link = [link for link in soup2.find_all('a') if '10-q' in link.text]\n",
    "last_link"
   ]
  },
  {
   "cell_type": "code",
   "execution_count": 396,
   "metadata": {
    "collapsed": true
   },
   "outputs": [],
   "source": [
    "import numpy as np\n",
    "# np.where(list(str(last_link[0]))=='\"')\n",
    "last_link = \"https://www.sec.gov\" + str(last_link[0])[9:-18]"
   ]
  },
  {
   "cell_type": "code",
   "execution_count": 397,
   "metadata": {
    "collapsed": true
   },
   "outputs": [],
   "source": [
    "r3 = requests.get(last_link)\n",
    "soup3 = BeautifulSoup(r3.text, 'html.parser')"
   ]
  },
  {
   "cell_type": "code",
   "execution_count": 457,
   "metadata": {
    "collapsed": true
   },
   "outputs": [],
   "source": [
    "test_table = list(soup3.find_all('table'))[1]"
   ]
  },
  {
   "cell_type": "code",
   "execution_count": 458,
   "metadata": {},
   "outputs": [
    {
     "data": {
      "text/plain": [
       "{'b', 'font', 'td', 'tr'}"
      ]
     },
     "execution_count": 458,
     "metadata": {},
     "output_type": "execute_result"
    }
   ],
   "source": [
    "tag_all = []\n",
    "for tag in test_table.find_all(True):\n",
    "    tag_all.append(tag.name)\n",
    "\n",
    "set(tag_all)"
   ]
  },
  {
   "cell_type": "code",
   "execution_count": 646,
   "metadata": {
    "collapsed": true
   },
   "outputs": [],
   "source": [
    "import pandas as pd\n",
    "import os\n",
    "\n",
    "os.getcwd()\n",
    "f = open('/Users/annzhong/Downloads/company.070194.txt')\n",
    "lines = f.read().split('\\n')\n"
   ]
  },
  {
   "cell_type": "code",
   "execution_count": 678,
   "metadata": {},
   "outputs": [],
   "source": [
    "information = lines[0:7]\n",
    "df_i = pd.DataFrame()\n",
    "for i in range(len(information)):\n",
    "    info = list(filter(None, information[i].split('  ')))\n",
    "    index_i = info[0]\n",
    "    data_i = info[1]\n",
    "    df_i[i] = ([index_i,data_i])\n",
    "    \n",
    "info_df = df_i.T.set_index(0)"
   ]
  },
  {
   "cell_type": "code",
   "execution_count": 634,
   "metadata": {},
   "outputs": [],
   "source": [
    "test = lines[8].strip().split('  ')\n",
    "target = list(filter(None, test))\n",
    "title = [w.strip() for w in target]"
   ]
  },
  {
   "cell_type": "code",
   "execution_count": 641,
   "metadata": {
    "collapsed": true
   },
   "outputs": [],
   "source": [
    "for i in range(10, len(lines)):\n",
    "    test = lines[i].strip().split('  ')\n",
    "    target = list(filter(None, test))\n",
    "    content = [w.strip() for w in target]\n",
    "    try:\n",
    "        df[i-10] = pd.DataFrame(index=title, data=[content[0],\n",
    "                                            content[1],\n",
    "                                            content[2],\n",
    "                                            content[3],\n",
    "                                            content[4]])\n",
    "    except:\n",
    "        continue"
   ]
  },
  {
   "cell_type": "code",
   "execution_count": 644,
   "metadata": {},
   "outputs": [
    {
     "data": {
      "text/html": [
       "<div>\n",
       "<style>\n",
       "    .dataframe thead tr:only-child th {\n",
       "        text-align: right;\n",
       "    }\n",
       "\n",
       "    .dataframe thead th {\n",
       "        text-align: left;\n",
       "    }\n",
       "\n",
       "    .dataframe tbody tr th {\n",
       "        vertical-align: top;\n",
       "    }\n",
       "</style>\n",
       "<table border=\"1\" class=\"dataframe\">\n",
       "  <thead>\n",
       "    <tr style=\"text-align: right;\">\n",
       "      <th></th>\n",
       "      <th>Company Name</th>\n",
       "      <th>Form Type</th>\n",
       "      <th>CIK</th>\n",
       "      <th>Date Filed</th>\n",
       "      <th>File Name</th>\n",
       "    </tr>\n",
       "  </thead>\n",
       "  <tbody>\n",
       "    <tr>\n",
       "      <th>0</th>\n",
       "      <td>3333 HOLDING CORP</td>\n",
       "      <td>DEF 14A</td>\n",
       "      <td>18532</td>\n",
       "      <td>19940701</td>\n",
       "      <td>data/18532/0000950134-94-000765.txt</td>\n",
       "    </tr>\n",
       "    <tr>\n",
       "      <th>1</th>\n",
       "      <td>ACME METALS INC /DE/</td>\n",
       "      <td>10-K/A</td>\n",
       "      <td>803649</td>\n",
       "      <td>19940629</td>\n",
       "      <td>data/883702/0000912057-94-002192.txt</td>\n",
       "    </tr>\n",
       "    <tr>\n",
       "      <th>2</th>\n",
       "      <td>ACTAVA GROUP INC</td>\n",
       "      <td>10-K/A</td>\n",
       "      <td>352187</td>\n",
       "      <td>19940629</td>\n",
       "      <td>data/39547/0000950144-94-001292.txt</td>\n",
       "    </tr>\n",
       "    <tr>\n",
       "      <th>3</th>\n",
       "      <td>AHMANSON H F &amp; CO /DE/</td>\n",
       "      <td>11-K</td>\n",
       "      <td>926155</td>\n",
       "      <td>19940629</td>\n",
       "      <td>data/771667/0000771667-94-000007.txt</td>\n",
       "    </tr>\n",
       "    <tr>\n",
       "      <th>4</th>\n",
       "      <td>AIRGAS INC</td>\n",
       "      <td>11-K</td>\n",
       "      <td>85149</td>\n",
       "      <td>19940627</td>\n",
       "      <td>data/804212/0000950116-94-000076.txt</td>\n",
       "    </tr>\n",
       "  </tbody>\n",
       "</table>\n",
       "</div>"
      ],
      "text/plain": [
       "             Company Name Form Type     CIK Date Filed  \\\n",
       "0       3333 HOLDING CORP   DEF 14A   18532   19940701   \n",
       "1    ACME METALS INC /DE/    10-K/A  803649   19940629   \n",
       "2        ACTAVA GROUP INC    10-K/A  352187   19940629   \n",
       "3  AHMANSON H F & CO /DE/      11-K  926155   19940629   \n",
       "4              AIRGAS INC      11-K   85149   19940627   \n",
       "\n",
       "                              File Name  \n",
       "0   data/18532/0000950134-94-000765.txt  \n",
       "1  data/883702/0000912057-94-002192.txt  \n",
       "2   data/39547/0000950144-94-001292.txt  \n",
       "3  data/771667/0000771667-94-000007.txt  \n",
       "4  data/804212/0000950116-94-000076.txt  "
      ]
     },
     "execution_count": 644,
     "metadata": {},
     "output_type": "execute_result"
    }
   ],
   "source": [
    "company070194 = df.T\n",
    "company070194.head()"
   ]
  },
  {
   "cell_type": "code",
   "execution_count": null,
   "metadata": {},
   "outputs": [],
   "source": []
  },
  {
   "cell_type": "code",
   "execution_count": null,
   "metadata": {
    "collapsed": true
   },
   "outputs": [],
   "source": []
  },
  {
   "cell_type": "code",
   "execution_count": null,
   "metadata": {
    "collapsed": true
   },
   "outputs": [],
   "source": []
  }
 ],
 "metadata": {
  "kernelspec": {
   "display_name": "Python 3",
   "language": "python",
   "name": "python3"
  },
  "language_info": {
   "codemirror_mode": {
    "name": "ipython",
    "version": 3
   },
   "file_extension": ".py",
   "mimetype": "text/x-python",
   "name": "python",
   "nbconvert_exporter": "python",
   "pygments_lexer": "ipython3",
   "version": "3.6.1"
  }
 },
 "nbformat": 4,
 "nbformat_minor": 2
}
