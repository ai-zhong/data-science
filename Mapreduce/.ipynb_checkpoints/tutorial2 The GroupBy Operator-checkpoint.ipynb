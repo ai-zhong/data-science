{
 "cells": [
  {
   "cell_type": "code",
   "execution_count": 1,
   "metadata": {},
   "outputs": [],
   "source": [
    "import json\n",
    "import sys\n",
    "from collections import OrderedDict\n",
    "class MapReduce:\n",
    "    def __init__(self):\n",
    "        self.intermediate = OrderedDict()\n",
    "        self.result = []\n",
    "\n",
    "\n",
    "    def emitIntermediate(self, key, value):\n",
    "        self.intermediate.setdefault(key, [])\n",
    "        self.intermediate[key].append(value)\n",
    "\n",
    "    def emit(self, value):\n",
    "        self.result.append(value)\n",
    "\n",
    "    def execute(self, data, mapper, reducer):\n",
    "\n",
    "        for line in data:\n",
    "            record = json.loads(line)\n",
    "            mapper(record)\n",
    "\n",
    "        for key in self.intermediate:\n",
    "            reducer(key, self.intermediate[key])\n",
    "\n",
    "        jenc = json.JSONEncoder()\n",
    "        for item in self.result:\n",
    "            print(\"{\\\"key\\\":\\\"\"+item[0]+\"\\\",\\\"value\\\":\\\"\" + str(item[1]) + \"\\\"}\")\n",
    "\n",
    "mapReducer = MapReduce()\n",
    "\n",
    "def mapper(record):\n",
    "    key = record[\"key\"]\n",
    "    value = record[\"value\"]\n",
    "    # COMPLETE THE LINE BELOW BY FILLING UP THE QUESTION MARKS\n",
    "    mapReducer.emitIntermediate(key, value)\n",
    "\n",
    "def reducer(key, list_of_values):\n",
    "    # COMPLETE THE LINE BELOW BY FILLING UP THE QUESTION MARKS\n",
    "    mapReducer.emit((key, ','.join(sorted(list_of_values))))\n",
    "\n",
    "\n",
    "if __name__ == '__main__':\n",
    "    inputData = []\n",
    "    counter = 0\n",
    "    for line in sys.stdin:\n",
    "        counter += 1\n",
    "        state, city = line.strip().split(\"\\t\")\n",
    "        inputData.append(json.dumps({\"key\":state,\"value\":city}))\n",
    "    mapReducer.execute(inputData, mapper, reducer)"
   ]
  },
  {
   "cell_type": "code",
   "execution_count": null,
   "metadata": {
    "collapsed": true
   },
   "outputs": [],
   "source": []
  }
 ],
 "metadata": {
  "kernelspec": {
   "display_name": "Python 3",
   "language": "python",
   "name": "python3"
  },
  "language_info": {
   "codemirror_mode": {
    "name": "ipython",
    "version": 3
   },
   "file_extension": ".py",
   "mimetype": "text/x-python",
   "name": "python",
   "nbconvert_exporter": "python",
   "pygments_lexer": "ipython3",
   "version": "3.6.2"
  }
 },
 "nbformat": 4,
 "nbformat_minor": 2
}
