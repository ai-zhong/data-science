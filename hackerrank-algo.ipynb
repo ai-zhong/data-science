{
 "cells": [
  {
   "cell_type": "markdown",
   "metadata": {},
   "source": [
    "# Warm up\n",
    "## compare the triplets"
   ]
  },
  {
   "cell_type": "code",
   "execution_count": 15,
   "metadata": {},
   "outputs": [
    {
     "name": "stdout",
     "output_type": "stream",
     "text": [
      "1 1 1\n",
      "2 2 2\n",
      "0 3\n"
     ]
    }
   ],
   "source": [
    "import sys\n",
    "\n",
    "def solve(a0, a1, a2, b0, b1, b2):\n",
    "    # Complete this function\n",
    "    a = [a0, a1, a2]\n",
    "    b = [b0, b1, b2]\n",
    "    score_a = 0\n",
    "    score_b = 0\n",
    "    for i in range(3):\n",
    "        if a[i]<b[i]:\n",
    "            score_b+=1\n",
    "        if a[i]>b[i]:\n",
    "            score_a+=1\n",
    "\n",
    "    return(score_a, score_b)\n",
    "\n",
    "a0, a1, a2 = input().strip().split(' ')\n",
    "a0, a1, a2 = [int(a0), int(a1), int(a2)]\n",
    "b0, b1, b2 = input().strip().split(' ')\n",
    "b0, b1, b2 = [int(b0), int(b1), int(b2)]\n",
    "result = solve(a0, a1, a2, b0, b1, b2)\n",
    "print (\" \".join(map(str, result)))\n"
   ]
  },
  {
   "cell_type": "markdown",
   "metadata": {},
   "source": [
    "## a very big sum"
   ]
  },
  {
   "cell_type": "code",
   "execution_count": 20,
   "metadata": {},
   "outputs": [
    {
     "name": "stdout",
     "output_type": "stream",
     "text": [
      "5\n",
      "1000000001 1000000002 1000000003 1000000004 1000000005\n",
      "5000000015\n"
     ]
    }
   ],
   "source": [
    "# seems in python int will auto be put into long if the number is very big\n",
    "\n",
    "def aVeryBigSum(n, ar):\n",
    "    # Complete this function\n",
    "    sum_all = 0\n",
    "    for i in range(n):\n",
    "        sum_all = ar[i] + sum_all\n",
    "    \n",
    "    return sum_all\n",
    "\n",
    "n = int(input().strip())\n",
    "ar = list(map(int, input().strip().split(' ')))\n",
    "result = aVeryBigSum(n, ar)\n",
    "print(result)\n"
   ]
  },
  {
   "cell_type": "markdown",
   "metadata": {},
   "source": [
    "## diagonal difference"
   ]
  },
  {
   "cell_type": "code",
   "execution_count": 23,
   "metadata": {},
   "outputs": [
    {
     "name": "stdout",
     "output_type": "stream",
     "text": [
      "2\n",
      "1 2\n",
      "3 4\n"
     ]
    }
   ],
   "source": [
    "n = int(input().strip())\n",
    "a = []\n",
    "dia1 = []\n",
    "dia2 = []\n",
    "for a_i in range(n):\n",
    "    a_t = [int(a_temp) for a_temp in input().strip().split(' ')]\n",
    "    a.append(a_t)\n",
    "    \n"
   ]
  },
  {
   "cell_type": "code",
   "execution_count": null,
   "metadata": {
    "collapsed": true
   },
   "outputs": [],
   "source": []
  },
  {
   "cell_type": "code",
   "execution_count": null,
   "metadata": {
    "collapsed": true
   },
   "outputs": [],
   "source": []
  }
 ],
 "metadata": {
  "kernelspec": {
   "display_name": "Python 3",
   "language": "python",
   "name": "python3"
  },
  "language_info": {
   "codemirror_mode": {
    "name": "ipython",
    "version": 3
   },
   "file_extension": ".py",
   "mimetype": "text/x-python",
   "name": "python",
   "nbconvert_exporter": "python",
   "pygments_lexer": "ipython3",
   "version": "3.6.2"
  }
 },
 "nbformat": 4,
 "nbformat_minor": 2
}
